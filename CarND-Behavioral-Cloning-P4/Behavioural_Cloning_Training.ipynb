{
 "cells": [
  {
   "cell_type": "code",
   "execution_count": 1,
   "metadata": {
    "colab": {
     "base_uri": "https://localhost:8080/",
     "height": 377
    },
    "colab_type": "code",
    "id": "dkj_tji8plQJ",
    "outputId": "3753afcb-053e-48d1-c1d9-1af4990706dc"
   },
   "outputs": [
    {
     "name": "stdout",
     "output_type": "stream",
     "text": [
      "--2020-05-24 03:33:20--  https://www.dropbox.com/s/e7su3mq0xcrdb70/behaviour_cloning_data.zip?dl=1\n",
      "Resolving www.dropbox.com (www.dropbox.com)... 162.125.65.1, 2620:100:601b:1::a27d:801\n",
      "Connecting to www.dropbox.com (www.dropbox.com)|162.125.65.1|:443... connected.\n",
      "HTTP request sent, awaiting response... 301 Moved Permanently\n",
      "Location: /s/dl/e7su3mq0xcrdb70/behaviour_cloning_data.zip [following]\n",
      "--2020-05-24 03:33:20--  https://www.dropbox.com/s/dl/e7su3mq0xcrdb70/behaviour_cloning_data.zip\n",
      "Reusing existing connection to www.dropbox.com:443.\n",
      "HTTP request sent, awaiting response... 302 Found\n",
      "Location: https://ucb26c10f454f1c49091a398beaa.dl.dropboxusercontent.com/cd/0/get/A4RbbSkehm0H_vU9LMGkKdNnCIBqEK3sGf2ESgEunEr6oRyX54ya259bZEJsb4_kFwF6huPlQV0OrCkrMa2KGcd_VO7QMHYTI_qCWz2cUjS-PhexpncNjvt8VEy8ahT0Kp8/file?dl=1# [following]\n",
      "--2020-05-24 03:33:20--  https://ucb26c10f454f1c49091a398beaa.dl.dropboxusercontent.com/cd/0/get/A4RbbSkehm0H_vU9LMGkKdNnCIBqEK3sGf2ESgEunEr6oRyX54ya259bZEJsb4_kFwF6huPlQV0OrCkrMa2KGcd_VO7QMHYTI_qCWz2cUjS-PhexpncNjvt8VEy8ahT0Kp8/file?dl=1\n",
      "Resolving ucb26c10f454f1c49091a398beaa.dl.dropboxusercontent.com (ucb26c10f454f1c49091a398beaa.dl.dropboxusercontent.com)... 162.125.65.6, 2620:100:601b:6::a27d:806\n",
      "Connecting to ucb26c10f454f1c49091a398beaa.dl.dropboxusercontent.com (ucb26c10f454f1c49091a398beaa.dl.dropboxusercontent.com)|162.125.65.6|:443... connected.\n",
      "HTTP request sent, awaiting response... 200 OK\n",
      "Length: 997922631 (952M) [application/binary]\n",
      "Saving to: ‘data.zip’\n",
      "\n",
      "data.zip            100%[===================>] 951.69M  6.21MB/s    in 2m 9s   \n",
      "\n",
      "2020-05-24 03:35:30 (7.37 MB/s) - ‘data.zip’ saved [997922631/997922631]\n",
      "\n"
     ]
    }
   ],
   "source": [
    "!wget -O data.zip https://www.dropbox.com/s/e7su3mq0xcrdb70/behaviour_cloning_data.zip?dl=1"
   ]
  },
  {
   "cell_type": "code",
   "execution_count": 0,
   "metadata": {
    "colab": {},
    "colab_type": "code",
    "id": "E5Phula_qojb"
   },
   "outputs": [],
   "source": [
    "!unzip data.zip"
   ]
  },
  {
   "cell_type": "code",
   "execution_count": 1,
   "metadata": {
    "colab": {
     "base_uri": "https://localhost:8080/",
     "height": 224
    },
    "colab_type": "code",
    "id": "O27XunCq2rPw",
    "outputId": "d82f019b-d8e7-41fe-bfcd-90f5b37b9d28"
   },
   "outputs": [
    {
     "name": "stdout",
     "output_type": "stream",
     "text": [
      "--2020-05-24 09:09:26--  https://raw.githubusercontent.com/rayryeng/Udacity_Self_Driving_Car_Nanodegree/master/CarND-Behavioral-Cloning-P4/model.py\n",
      "Resolving raw.githubusercontent.com (raw.githubusercontent.com)... 151.101.0.133, 151.101.64.133, 151.101.128.133, ...\n",
      "Connecting to raw.githubusercontent.com (raw.githubusercontent.com)|151.101.0.133|:443... connected.\n",
      "HTTP request sent, awaiting response... 200 OK\n",
      "Length: 14046 (14K) [text/plain]\n",
      "Saving to: ‘model.py’\n",
      "\n",
      "\r",
      "model.py              0%[                    ]       0  --.-KB/s               \r",
      "model.py            100%[===================>]  13.72K  --.-KB/s    in 0.004s  \n",
      "\n",
      "2020-05-24 09:09:26 (3.79 MB/s) - ‘model.py’ saved [14046/14046]\n",
      "\n"
     ]
    }
   ],
   "source": [
    "!wget https://raw.githubusercontent.com/rayryeng/Udacity_Self_Driving_Car_Nanodegree/master/CarND-Behavioral-Cloning-P4/model.py"
   ]
  },
  {
   "cell_type": "code",
   "execution_count": 0,
   "metadata": {
    "colab": {},
    "colab_type": "code",
    "id": "xNyF9QFOtROe"
   },
   "outputs": [],
   "source": [
    "from model import *"
   ]
  },
  {
   "cell_type": "code",
   "execution_count": 0,
   "metadata": {
    "colab": {},
    "colab_type": "code",
    "id": "OvkPr4pbvoCK"
   },
   "outputs": [],
   "source": [
    "args = {\n",
    "    'data_dir': './behaviour_cloning_data',\n",
    "    'model_checkpoint_dir': './checkpoint',\n",
    "    'model_output_dir': './models',\n",
    "    'training_size': 0.8,\n",
    "    'validation_size': 0.1,\n",
    "    'test_size': 0.1,\n",
    "    'steering_correction': 0.25,\n",
    "    'prob_flip': 0.3,\n",
    "    'batch_size': 128,\n",
    "    'num_epochs': 50,\n",
    "    'plot_loss': False,\n",
    "    'seed': 42\n",
    "}"
   ]
  },
  {
   "cell_type": "code",
   "execution_count": 4,
   "metadata": {
    "colab": {
     "base_uri": "https://localhost:8080/",
     "height": 1000
    },
    "colab_type": "code",
    "id": "ua0Dx8DdyBIj",
    "outputId": "9bcc3af1-cbd9-44c5-f7ba-ac5bfb8b15a1"
   },
   "outputs": [
    {
     "name": "stdout",
     "output_type": "stream",
     "text": [
      "Epoch 1/50\n",
      "456/456 [==============================] - 71s 156ms/step - loss: 0.0449 - val_loss: 0.0315\n",
      "Epoch 2/50\n",
      "456/456 [==============================] - 70s 154ms/step - loss: 0.0329 - val_loss: 0.0280\n",
      "Epoch 3/50\n",
      "456/456 [==============================] - 71s 155ms/step - loss: 0.0301 - val_loss: 0.0262\n",
      "Epoch 4/50\n",
      "456/456 [==============================] - 70s 154ms/step - loss: 0.0286 - val_loss: 0.0256\n",
      "Epoch 5/50\n",
      "456/456 [==============================] - 70s 154ms/step - loss: 0.0274 - val_loss: 0.0228\n",
      "Epoch 6/50\n",
      "456/456 [==============================] - 70s 154ms/step - loss: 0.0262 - val_loss: 0.0219\n",
      "Epoch 7/50\n",
      "456/456 [==============================] - 70s 154ms/step - loss: 0.0252 - val_loss: 0.0214\n",
      "Epoch 8/50\n",
      "456/456 [==============================] - 71s 156ms/step - loss: 0.0245 - val_loss: 0.0218\n",
      "Epoch 9/50\n",
      "456/456 [==============================] - 71s 156ms/step - loss: 0.0239 - val_loss: 0.0207\n",
      "Epoch 10/50\n",
      "456/456 [==============================] - 71s 156ms/step - loss: 0.0235 - val_loss: 0.0205\n",
      "Epoch 11/50\n",
      "456/456 [==============================] - 71s 156ms/step - loss: 0.0229 - val_loss: 0.0196\n",
      "Epoch 12/50\n",
      "456/456 [==============================] - 71s 156ms/step - loss: 0.0225 - val_loss: 0.0199\n",
      "Epoch 13/50\n",
      "456/456 [==============================] - 71s 156ms/step - loss: 0.0222 - val_loss: 0.0209\n",
      "Epoch 14/50\n",
      "456/456 [==============================] - 71s 155ms/step - loss: 0.0218 - val_loss: 0.0190\n",
      "Epoch 15/50\n",
      "456/456 [==============================] - 71s 156ms/step - loss: 0.0214 - val_loss: 0.0189\n",
      "Epoch 16/50\n",
      "456/456 [==============================] - 70s 154ms/step - loss: 0.0212 - val_loss: 0.0190\n",
      "Epoch 17/50\n",
      "456/456 [==============================] - 71s 156ms/step - loss: 0.0209 - val_loss: 0.0187\n",
      "Epoch 18/50\n",
      "456/456 [==============================] - 71s 156ms/step - loss: 0.0202 - val_loss: 0.0202\n",
      "Epoch 19/50\n",
      "456/456 [==============================] - 71s 155ms/step - loss: 0.0203 - val_loss: 0.0191\n",
      "Epoch 20/50\n",
      "456/456 [==============================] - 71s 155ms/step - loss: 0.0199 - val_loss: 0.0193\n",
      "Epoch 21/50\n",
      "456/456 [==============================] - 70s 154ms/step - loss: 0.0203 - val_loss: 0.0195\n",
      "Epoch 22/50\n",
      "456/456 [==============================] - 71s 155ms/step - loss: 0.0196 - val_loss: 0.0193\n",
      "Epoch 23/50\n",
      "456/456 [==============================] - 70s 154ms/step - loss: 0.0195 - val_loss: 0.0178\n",
      "Epoch 24/50\n",
      "456/456 [==============================] - 70s 154ms/step - loss: 0.0191 - val_loss: 0.0187\n",
      "Epoch 25/50\n",
      "456/456 [==============================] - 71s 155ms/step - loss: 0.0187 - val_loss: 0.0182\n",
      "Epoch 26/50\n",
      "456/456 [==============================] - 71s 155ms/step - loss: 0.0191 - val_loss: 0.0197\n",
      "Epoch 27/50\n",
      "456/456 [==============================] - 71s 155ms/step - loss: 0.0187 - val_loss: 0.0200\n",
      "Epoch 28/50\n",
      "456/456 [==============================] - 71s 155ms/step - loss: 0.0186 - val_loss: 0.0176\n",
      "Epoch 29/50\n",
      "456/456 [==============================] - 70s 154ms/step - loss: 0.0185 - val_loss: 0.0186\n",
      "Epoch 30/50\n",
      "456/456 [==============================] - 71s 155ms/step - loss: 0.0185 - val_loss: 0.0182\n",
      "Epoch 31/50\n",
      "456/456 [==============================] - 71s 156ms/step - loss: 0.0182 - val_loss: 0.0173\n",
      "Epoch 32/50\n",
      "456/456 [==============================] - 70s 154ms/step - loss: 0.0181 - val_loss: 0.0180\n",
      "Epoch 33/50\n",
      "456/456 [==============================] - 70s 154ms/step - loss: 0.0179 - val_loss: 0.0186\n",
      "Epoch 34/50\n",
      "456/456 [==============================] - 71s 155ms/step - loss: 0.0177 - val_loss: 0.0182\n",
      "Epoch 35/50\n",
      "456/456 [==============================] - 74s 163ms/step - loss: 0.0181 - val_loss: 0.0177\n",
      "Epoch 36/50\n",
      "456/456 [==============================] - 72s 159ms/step - loss: 0.0181 - val_loss: 0.0187\n",
      "Epoch 37/50\n",
      "456/456 [==============================] - 73s 160ms/step - loss: 0.0176 - val_loss: 0.0204\n",
      "Epoch 38/50\n",
      "456/456 [==============================] - 73s 160ms/step - loss: 0.0178 - val_loss: 0.0182\n",
      "Epoch 39/50\n",
      "456/456 [==============================] - 73s 159ms/step - loss: 0.0178 - val_loss: 0.0181\n",
      "Epoch 40/50\n",
      "456/456 [==============================] - 73s 161ms/step - loss: 0.0175 - val_loss: 0.0184\n",
      "Epoch 41/50\n",
      "456/456 [==============================] - 72s 159ms/step - loss: 0.0174 - val_loss: 0.0177\n",
      "Epoch 42/50\n",
      "456/456 [==============================] - 73s 160ms/step - loss: 0.0170 - val_loss: 0.0179\n",
      "Epoch 43/50\n",
      "456/456 [==============================] - 73s 159ms/step - loss: 0.0171 - val_loss: 0.0185\n",
      "Epoch 44/50\n",
      "456/456 [==============================] - 73s 159ms/step - loss: 0.0172 - val_loss: 0.0172\n",
      "Epoch 45/50\n",
      "456/456 [==============================] - 71s 156ms/step - loss: 0.0171 - val_loss: 0.0184\n",
      "Epoch 46/50\n",
      "456/456 [==============================] - 73s 161ms/step - loss: 0.0168 - val_loss: 0.0175\n",
      "Epoch 47/50\n",
      "456/456 [==============================] - 73s 160ms/step - loss: 0.0168 - val_loss: 0.0181\n",
      "Epoch 48/50\n",
      "456/456 [==============================] - 73s 159ms/step - loss: 0.0167 - val_loss: 0.0185\n",
      "Epoch 49/50\n",
      "456/456 [==============================] - 72s 159ms/step - loss: 0.0166 - val_loss: 0.0191\n",
      "Epoch 50/50\n",
      "456/456 [==============================] - 72s 158ms/step - loss: 0.0169 - val_loss: 0.0189\n",
      "57/57 [==============================] - 8s 140ms/step - loss: 0.0101\n"
     ]
    }
   ],
   "source": [
    "losses, val_losses, test_loss = main(**args)"
   ]
  },
  {
   "cell_type": "code",
   "execution_count": 0,
   "metadata": {
    "colab": {},
    "colab_type": "code",
    "id": "bsHsAyReQEgO"
   },
   "outputs": [],
   "source": [
    "import matplotlib.pyplot as plt\n",
    "%matplotlib inline"
   ]
  },
  {
   "cell_type": "code",
   "execution_count": 0,
   "metadata": {
    "colab": {},
    "colab_type": "code",
    "id": "-kb0RWqCSTfq"
   },
   "outputs": [],
   "source": [
    "plt.rcParams['figure.figsize'] = (16, 12)"
   ]
  },
  {
   "cell_type": "code",
   "execution_count": 7,
   "metadata": {
    "colab": {
     "base_uri": "https://localhost:8080/",
     "height": 592
    },
    "colab_type": "code",
    "id": "AkrEmbaRSZ-Q",
    "outputId": "d08c248a-37e1-46fd-a048-af685cf7a72f"
   },
   "outputs": [
    {
     "data": {
      "image/png": "[encoded data removed]",
      "text/plain": [
       "<Figure size 1152x864 with 1 Axes>"
      ]
     },
     "metadata": {
      "needs_background": "light",
      "tags": []
     },
     "output_type": "display_data"
    }
   ],
   "source": [
    "plt.figure()\n",
    "plt.plot(losses)\n",
    "plt.plot(val_losses)\n",
    "plt.title('Model MSE loss')\n",
    "plt.ylabel('MSE Loss')\n",
    "plt.xlabel('Epoch')\n",
    "plt.legend(['Training', 'Validation'], loc='upper right')\n",
    "plt.savefig('loss_plot.png')\n",
    "plt.show()"
   ]
  },
  {
   "cell_type": "code",
   "execution_count": 10,
   "metadata": {
    "colab": {
     "base_uri": "https://localhost:8080/",
     "height": 34
    },
    "colab_type": "code",
    "id": "TtS7kQPDZhZz",
    "outputId": "d3bb2e51-144a-48de-a36e-285c907a57d5"
   },
   "outputs": [
    {
     "name": "stdout",
     "output_type": "stream",
     "text": [
      "Model Test Loss: 0.010102853178977966\n"
     ]
    }
   ],
   "source": [
    "print('Model Test Loss: ' + str(test_loss))"
   ]
  },
  {
   "cell_type": "code",
   "execution_count": 0,
   "metadata": {
    "colab": {},
    "colab_type": "code",
    "id": "ONPduTrJySUA"
   },
   "outputs": [],
   "source": [
    "# Save losses to disk for use later\n",
    "np.save('losses.npy', losses)\n",
    "np.save('val_losses.npy', val_losses)\n",
    "np.save('test_loss.npy', test_loss)"
   ]
  }
 ],
 "metadata": {
  "accelerator": "GPU",
  "colab": {
   "collapsed_sections": [],
   "name": "Behavioural_Cloning_Training",
   "provenance": []
  },
  "kernelspec": {
   "display_name": "Python 3",
   "language": "python",
   "name": "python3"
  },
  "language_info": {
   "codemirror_mode": {
    "name": "ipython",
    "version": 3
   },
   "file_extension": ".py",
   "mimetype": "text/x-python",
   "name": "python",
   "nbconvert_exporter": "python",
   "pygments_lexer": "ipython3",
   "version": "3.7.7"
  }
 },
 "nbformat": 4,
 "nbformat_minor": 1
}
