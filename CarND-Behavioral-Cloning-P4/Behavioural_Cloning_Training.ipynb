{
 "cells": [
  {
   "cell_type": "code",
   "execution_count": 1,
   "metadata": {
    "colab": {
     "base_uri": "https://localhost:8080/",
     "height": 377
    },
    "colab_type": "code",
    "id": "dkj_tji8plQJ",
    "outputId": "080f96c9-98c0-4781-bd10-765c3a3ffecb"
   },
   "outputs": [
    {
     "name": "stdout",
     "output_type": "stream",
     "text": [
      "--2020-05-26 15:56:00--  https://www.dropbox.com/s/ga91tovevl1hafu/behaviour_cloning_data.zip?dl=1\n",
      "Resolving www.dropbox.com (www.dropbox.com)... 162.125.1.1, 2620:100:601b:1::a27d:801\n",
      "Connecting to www.dropbox.com (www.dropbox.com)|162.125.1.1|:443... connected.\n",
      "HTTP request sent, awaiting response... 301 Moved Permanently\n",
      "Location: /s/dl/ga91tovevl1hafu/behaviour_cloning_data.zip [following]\n",
      "--2020-05-26 15:56:00--  https://www.dropbox.com/s/dl/ga91tovevl1hafu/behaviour_cloning_data.zip\n",
      "Reusing existing connection to www.dropbox.com:443.\n",
      "HTTP request sent, awaiting response... 302 Found\n",
      "Location: https://uc18a3413e444a4aea6df9ef5d7d.dl.dropboxusercontent.com/cd/0/get/A4eQSD9Gm3RChJnp5R96PFDlh5sQ_Fmc1ua2fH-zTdvPb9phGOfkGKbuWvoO4qSb7nBmUBSiqUE8_NtsuHadjO01W8S7BFFUx1jmvmVeUKlZS8y_APNmyQHiEisk9wS4iMw/file?dl=1# [following]\n",
      "--2020-05-26 15:56:00--  https://uc18a3413e444a4aea6df9ef5d7d.dl.dropboxusercontent.com/cd/0/get/A4eQSD9Gm3RChJnp5R96PFDlh5sQ_Fmc1ua2fH-zTdvPb9phGOfkGKbuWvoO4qSb7nBmUBSiqUE8_NtsuHadjO01W8S7BFFUx1jmvmVeUKlZS8y_APNmyQHiEisk9wS4iMw/file?dl=1\n",
      "Resolving uc18a3413e444a4aea6df9ef5d7d.dl.dropboxusercontent.com (uc18a3413e444a4aea6df9ef5d7d.dl.dropboxusercontent.com)... 162.125.8.6, 2620:100:601b:6::a27d:806\n",
      "Connecting to uc18a3413e444a4aea6df9ef5d7d.dl.dropboxusercontent.com (uc18a3413e444a4aea6df9ef5d7d.dl.dropboxusercontent.com)|162.125.8.6|:443... connected.\n",
      "HTTP request sent, awaiting response... 200 OK\n",
      "Length: 337528735 (322M) [application/binary]\n",
      "Saving to: ‘data.zip’\n",
      "\n",
      "data.zip            100%[===================>] 321.89M  34.7MB/s    in 10s     \n",
      "\n",
      "2020-05-26 15:56:11 (31.2 MB/s) - ‘data.zip’ saved [337528735/337528735]\n",
      "\n"
     ]
    }
   ],
   "source": [
    "!wget -O data.zip https://www.dropbox.com/s/ga91tovevl1hafu/behaviour_cloning_data.zip?dl=1"
   ]
  },
  {
   "cell_type": "code",
   "execution_count": null,
   "metadata": {
    "colab": {
     "base_uri": "https://localhost:8080/",
     "height": 1000
    },
    "colab_type": "code",
    "id": "E5Phula_qojb",
    "outputId": "365689d8-c896-4e5d-c9a4-e725f209387b",
    "scrolled": true
   },
   "outputs": [],
   "source": [
    "!unzip data.zip"
   ]
  },
  {
   "cell_type": "code",
   "execution_count": 3,
   "metadata": {
    "colab": {
     "base_uri": "https://localhost:8080/",
     "height": 224
    },
    "colab_type": "code",
    "id": "O27XunCq2rPw",
    "outputId": "17267e3b-9669-4e97-8033-eb623d3ed116"
   },
   "outputs": [
    {
     "name": "stdout",
     "output_type": "stream",
     "text": [
      "--2020-05-26 15:59:46--  https://raw.githubusercontent.com/rayryeng/Udacity_Self_Driving_Car_Nanodegree/master/CarND-Behavioral-Cloning-P4/model.py\n",
      "Resolving raw.githubusercontent.com (raw.githubusercontent.com)... 151.101.0.133, 151.101.64.133, 151.101.128.133, ...\n",
      "Connecting to raw.githubusercontent.com (raw.githubusercontent.com)|151.101.0.133|:443... connected.\n",
      "HTTP request sent, awaiting response... 200 OK\n",
      "Length: 14949 (15K) [text/plain]\n",
      "Saving to: ‘model.py’\n",
      "\n",
      "\r",
      "model.py              0%[                    ]       0  --.-KB/s               \r",
      "model.py            100%[===================>]  14.60K  --.-KB/s    in 0.007s  \n",
      "\n",
      "2020-05-26 15:59:46 (2.11 MB/s) - ‘model.py’ saved [14949/14949]\n",
      "\n"
     ]
    }
   ],
   "source": [
    "!wget https://raw.githubusercontent.com/rayryeng/Udacity_Self_Driving_Car_Nanodegree/master/CarND-Behavioral-Cloning-P4/model.py"
   ]
  },
  {
   "cell_type": "code",
   "execution_count": 0,
   "metadata": {
    "colab": {},
    "colab_type": "code",
    "id": "xNyF9QFOtROe"
   },
   "outputs": [],
   "source": [
    "from model import *"
   ]
  },
  {
   "cell_type": "code",
   "execution_count": 0,
   "metadata": {
    "colab": {},
    "colab_type": "code",
    "id": "OvkPr4pbvoCK"
   },
   "outputs": [],
   "source": [
    "args = {\n",
    "    'data_dir': './behaviour_cloning_data',\n",
    "    'model_checkpoint_dir': './checkpoint',\n",
    "    'model_output_dir': './models',\n",
    "    'training_size': 0.8,\n",
    "    'validation_size': 0.1,\n",
    "    'test_size': 0.1,\n",
    "    'steering_correction': 0.2,\n",
    "    'prob_flip': 1.0,\n",
    "    'batch_size': 32,\n",
    "    'num_epochs': 20,\n",
    "    'plot_loss': False,\n",
    "    'seed': 42\n",
    "}"
   ]
  },
  {
   "cell_type": "code",
   "execution_count": 0,
   "metadata": {
    "colab": {
     "base_uri": "https://localhost:8080/",
     "height": 734
    },
    "colab_type": "code",
    "id": "ua0Dx8DdyBIj",
    "outputId": "4332b360-94f3-4bf6-e3ea-ca98d9cdd11f"
   },
   "outputs": [
    {
     "name": "stdout",
     "output_type": "stream",
     "text": [
      "Epoch 1/20\n",
      "1221/1221 [==============================] - 39s 32ms/step - loss: 0.0372 - val_loss: 0.0167\n",
      "Epoch 2/20\n",
      "1221/1221 [==============================] - 37s 31ms/step - loss: 0.0208 - val_loss: 0.0165\n",
      "Epoch 3/20\n",
      "1221/1221 [==============================] - 38s 31ms/step - loss: 0.0197 - val_loss: 0.0165\n",
      "Epoch 4/20\n",
      "1221/1221 [==============================] - 38s 31ms/step - loss: 0.0183 - val_loss: 0.0147\n",
      "Epoch 5/20\n",
      "1221/1221 [==============================] - 37s 31ms/step - loss: 0.0149 - val_loss: 0.0130\n",
      "Epoch 6/20\n",
      "1221/1221 [==============================] - 38s 31ms/step - loss: 0.0131 - val_loss: 0.0105\n",
      "Epoch 7/20\n",
      "1221/1221 [==============================] - 37s 31ms/step - loss: 0.0124 - val_loss: 0.0114\n",
      "Epoch 8/20\n",
      "1221/1221 [==============================] - 37s 30ms/step - loss: 0.0123 - val_loss: 0.0102\n",
      "Epoch 9/20\n",
      "1221/1221 [==============================] - 37s 31ms/step - loss: 0.0119 - val_loss: 0.0101\n",
      "Epoch 10/20\n",
      "1221/1221 [==============================] - 37s 31ms/step - loss: 0.0121 - val_loss: 0.0095\n",
      "Epoch 11/20\n",
      "1221/1221 [==============================] - 37s 30ms/step - loss: 0.0116 - val_loss: 0.0101\n",
      "Epoch 12/20\n",
      "1221/1221 [==============================] - 38s 31ms/step - loss: 0.0115 - val_loss: 0.0092\n",
      "Epoch 13/20\n",
      "1221/1221 [==============================] - 38s 31ms/step - loss: 0.0109 - val_loss: 0.0093\n",
      "Epoch 14/20\n",
      "1221/1221 [==============================] - 38s 31ms/step - loss: 0.0110 - val_loss: 0.0093\n",
      "Epoch 15/20\n",
      "1221/1221 [==============================] - 38s 31ms/step - loss: 0.0106 - val_loss: 0.0099\n",
      "Epoch 16/20\n",
      "1221/1221 [==============================] - 38s 31ms/step - loss: 0.0104 - val_loss: 0.0098\n",
      "Epoch 17/20\n",
      "1221/1221 [==============================] - 38s 31ms/step - loss: 0.0104 - val_loss: 0.0094\n",
      "Epoch 18/20\n",
      "1221/1221 [==============================] - 38s 31ms/step - loss: 0.0103 - val_loss: 0.0098\n",
      "Epoch 19/20\n",
      "1221/1221 [==============================] - 37s 30ms/step - loss: 0.0099 - val_loss: 0.0096\n",
      "Epoch 20/20\n",
      "1221/1221 [==============================] - 38s 31ms/step - loss: 0.0098 - val_loss: 0.0097\n",
      "151/151 [==============================] - 3s 23ms/step - loss: 0.0130\n"
     ]
    }
   ],
   "source": [
    "losses, val_losses, test_loss = main(**args)"
   ]
  },
  {
   "cell_type": "code",
   "execution_count": 0,
   "metadata": {
    "colab": {},
    "colab_type": "code",
    "id": "bsHsAyReQEgO"
   },
   "outputs": [],
   "source": [
    "import matplotlib.pyplot as plt\n",
    "%matplotlib inline"
   ]
  },
  {
   "cell_type": "code",
   "execution_count": 0,
   "metadata": {
    "colab": {},
    "colab_type": "code",
    "id": "-kb0RWqCSTfq"
   },
   "outputs": [],
   "source": [
    "plt.rcParams['figure.figsize'] = (16, 12)"
   ]
  },
  {
   "cell_type": "code",
   "execution_count": 0,
   "metadata": {
    "colab": {
     "base_uri": "https://localhost:8080/",
     "height": 592
    },
    "colab_type": "code",
    "id": "AkrEmbaRSZ-Q",
    "outputId": "5593594e-7723-40c3-d6c5-0e9a130a261a"
   },
   "outputs": [
    {
     "data": {
      "image/png": "[encoded data removed]",
      "text/plain": [
       "<Figure size 1152x864 with 1 Axes>"
      ]
     },
     "metadata": {
      "needs_background": "light",
      "tags": []
     },
     "output_type": "display_data"
    }
   ],
   "source": [
    "plt.figure()\n",
    "plt.plot(losses)\n",
    "plt.plot(val_losses)\n",
    "plt.title('Model MSE loss')\n",
    "plt.ylabel('MSE Loss')\n",
    "plt.xlabel('Epoch')\n",
    "plt.legend(['Training', 'Validation'], loc='upper right')\n",
    "plt.savefig('loss_plot.png')\n",
    "plt.show()"
   ]
  },
  {
   "cell_type": "code",
   "execution_count": 0,
   "metadata": {
    "colab": {
     "base_uri": "https://localhost:8080/",
     "height": 34
    },
    "colab_type": "code",
    "id": "TtS7kQPDZhZz",
    "outputId": "647b558a-01b6-4218-b377-f0c4dc485409"
   },
   "outputs": [
    {
     "name": "stdout",
     "output_type": "stream",
     "text": [
      "Model Test Loss: 0.013035580515861511\n"
     ]
    }
   ],
   "source": [
    "print('Model Test Loss: ' + str(test_loss))"
   ]
  },
  {
   "cell_type": "code",
   "execution_count": 0,
   "metadata": {
    "colab": {},
    "colab_type": "code",
    "id": "ONPduTrJySUA"
   },
   "outputs": [],
   "source": [
    "# Save losses to disk for use later\n",
    "np.save('losses.npy', losses)\n",
    "np.save('val_losses.npy', val_losses)\n",
    "np.save('test_loss.npy', test_loss)"
   ]
  }
 ],
 "metadata": {
  "accelerator": "GPU",
  "colab": {
   "collapsed_sections": [],
   "name": "Behavioural_Cloning_Training",
   "provenance": []
  },
  "kernelspec": {
   "display_name": "Python 3",
   "language": "python",
   "name": "python3"
  },
  "language_info": {
   "codemirror_mode": {
    "name": "ipython",
    "version": 3
   },
   "file_extension": ".py",
   "mimetype": "text/x-python",
   "name": "python",
   "nbconvert_exporter": "python",
   "pygments_lexer": "ipython3",
   "version": "3.7.7"
  }
 },
 "nbformat": 4,
 "nbformat_minor": 1
}
